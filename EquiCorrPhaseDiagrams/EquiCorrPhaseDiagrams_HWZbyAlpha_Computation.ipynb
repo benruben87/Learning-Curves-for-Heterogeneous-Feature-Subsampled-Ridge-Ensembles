{
 "cells": [
  {
   "cell_type": "code",
   "execution_count": 5,
   "metadata": {},
   "outputs": [],
   "source": [
    "import sys\n",
    "sys.path.append('../')\n",
    "\n",
    "import numpy as np\n",
    "import time\n",
    "import copy\n",
    "from tqdm import tqdm\n",
    "import os\n",
    "\n",
    "\n",
    "import importlib\n",
    "\n",
    "import matplotlib as mpl\n",
    "import matplotlib.pyplot as plt\n",
    "import matplotlib.colors as mcolors\n",
    "from matplotlib.colors import Normalize\n",
    "import numpy as np\n",
    "import numpy.ma as ma\n",
    "\n",
    "from collections import OrderedDict\n",
    "\n",
    "import torch\n",
    "from torch.optim import SGD, Adam, lr_scheduler\n",
    "device = 'cuda'\n",
    "\n",
    "import importlib\n",
    "\n",
    "import TheoryCurves\n",
    "importlib.reload(TheoryCurves)\n",
    "\n",
    "import auxFuncs\n",
    "importlib.reload(auxFuncs)\n",
    "\n",
    "import pytz\n",
    "from datetime import datetime\n",
    "from dateutil.relativedelta import relativedelta\n",
    "tz = pytz.timezone('US/Eastern')\n",
    "\n",
    "def time_now():\n",
    "    return datetime.now(tz)\n",
    "\n",
    "def time_diff(t_a, t_b):\n",
    "    t_diff = relativedelta(t_b, t_a)  # later/end time comes first!\n",
    "    return '{h}h {m}m {s}s'.format(h=t_diff.hours, m=t_diff.minutes, s=t_diff.seconds)"
   ]
  },
  {
   "cell_type": "markdown",
   "metadata": {},
   "source": [
    "# Choose Parameters:"
   ]
  },
  {
   "cell_type": "code",
   "execution_count": 6,
   "metadata": {},
   "outputs": [],
   "source": [
    "spacing = .01\n",
    "lam = 0\n",
    "alphaLog = False"
   ]
  },
  {
   "cell_type": "code",
   "execution_count": 7,
   "metadata": {},
   "outputs": [],
   "source": [
    "colors = ['tab:blue', 'tab:red', 'tab:green', 'tab:purple', 'tab:orange', 'tab:brown', 'tab:pink', 'tab:olive', 'tab:cyan']\n",
    "linestyles = ['-', '--', ':', '-.']\n",
    "markerstyles = ['.','*','x']"
   ]
  },
  {
   "cell_type": "code",
   "execution_count": 8,
   "metadata": {},
   "outputs": [],
   "source": [
    "#Width and height of axes.\n",
    "w=2.5\n",
    "h=2\n",
    "plt.rcParams.update({'font.size': 12, 'figure.figsize': [w,h]})\n",
    "\n",
    "SMALL_SIZE = 12\n",
    "MEDIUM_SIZE = 14\n",
    "BIGGER_SIZE = 16\n",
    "\n",
    "plt.rc('font', size=MEDIUM_SIZE)          # controls default text sizes\n",
    "plt.rc('axes', titlesize=MEDIUM_SIZE)     # fontsize of the axes title\n",
    "plt.rc('axes', labelsize=MEDIUM_SIZE)    # fontsize of the x and y labels\n",
    "plt.rc('xtick', labelsize=MEDIUM_SIZE)    # fontsize of the tick labels\n",
    "plt.rc('ytick', labelsize=MEDIUM_SIZE)    # fontsize of the tick labels\n",
    "plt.rc('legend', fontsize=SMALL_SIZE)    # legend fontsize\n",
    "plt.rc('figure', titlesize=BIGGER_SIZE)  # fontsize of the figure title\n",
    "plt.rcParams['legend.title_fontsize'] = 'small'\n",
    "\n",
    "#Helper Function for setting figure size by axis size.\n",
    "#set_size(w,h,ax)\n",
    "def set_size(w,h, ax=None):\n",
    "    \"\"\" w, h: width, height in inches \"\"\"\n",
    "    if not ax: ax=plt.gca()\n",
    "    l = ax.figure.subplotpars.left\n",
    "    r = ax.figure.subplotpars.right\n",
    "    t = ax.figure.subplotpars.top\n",
    "    b = ax.figure.subplotpars.bottom\n",
    "    figw = float(w)/(r-l)\n",
    "    figh = float(h)/(t-b)\n",
    "    ax.figure.set_size_inches(figw, figh)"
   ]
  },
  {
   "cell_type": "markdown",
   "metadata": {
    "tags": []
   },
   "source": [
    "# Homogeneous Readouts Changing Number of Readouts\n",
    "## Collapsed Phase Diagram\n",
    "What's important are the effective noise to signal ratios $H = \\frac{\\eta^2}{s(1-c)}$, $W = \\frac{\\omega^2}{s(1-c)}$, $Z = \\frac{\\zeta^2}{s(1-c)}$. Also the sample complexity $\\alpha$, and the \"code-task alignment\" which is in this case parameterized by $\\rho$."
   ]
  },
  {
   "cell_type": "code",
   "execution_count": 9,
   "metadata": {},
   "outputs": [],
   "source": [
    "#Plotting against sample complexity.\n",
    "if alphaLog:\n",
    "    alphas = np.append(np.logspace(-2.1, 1, 301), np.inf)\n",
    "else:\n",
    "    alphas = np.append(np.linspace(0, 3, 301), np.inf)\n",
    "\n",
    "ks = np.array(list(range(1, 101)) + [np.inf])\n",
    "numKs = len(ks)\n",
    "\n",
    "rhos = [0, .3, .6]\n",
    "numRhos = len(rhos)\n",
    "\n",
    "lam = 0\n",
    "#Global not working yet -- instabilities in the calculation of optimal regularization.\n",
    "\n",
    "H_spacing = spacing\n",
    "H_max = 2.1\n",
    "H_list = np.linspace(0, H_max, int(H_max/H_spacing)+1)\n",
    "\n",
    "W_spacing = spacing\n",
    "W_max = 2.1\n",
    "W_list = np.linspace(0, W_max, int(W_max/W_spacing)+1)\n",
    "\n",
    "Z_spacing = spacing\n",
    "Z_max = 2.1\n",
    "Z_list = np.linspace(0, Z_max, int(Z_max/Z_spacing)+1)\n",
    "\n",
    "#These parameters will not affect the phase diagrams\n",
    "s = 1\n",
    "c = .1 #As long as we have c>0 this should give the right answers.\n",
    "\n",
    "errors_H = np.empty((len(rhos), len(H_list), len(alphas), numKs))\n",
    "errors_W = np.empty((len(rhos), len(W_list), len(alphas), numKs))\n",
    "errors_Z = np.empty((len(rhos), len(Z_list), len(alphas), numKs))\n",
    "\n",
    "nu_0 = 1"
   ]
  },
  {
   "cell_type": "code",
   "execution_count": 13,
   "metadata": {
    "tags": []
   },
   "outputs": [],
   "source": [
    "for HInd, H in enumerate(H_list):\n",
    "    for rhoInd, rho in enumerate(rhos):\n",
    "        for kInd, k in enumerate(ks):\n",
    "            eta = (H*s*(1-c))**(1/2)\n",
    "            omega = 0\n",
    "            zeta = 0\n",
    "            errors_H[rhoInd, HInd, :, kInd] = TheoryCurves.getEquiCorrErrorCurve_Homog_Exclusive(alphas, k, c, nu_0, lam, zeta, eta, s = s, omega = omega, rho = rho)\n",
    "        \n",
    "np.save(f'errors_H_lam{lam}.npy', errors_H)"
   ]
  },
  {
   "cell_type": "code",
   "execution_count": 14,
   "metadata": {
    "tags": []
   },
   "outputs": [],
   "source": [
    "for WInd, W in enumerate(W_list):\n",
    "    for rhoInd, rho in enumerate(rhos):\n",
    "        for kInd, k in enumerate(ks):\n",
    "            eta = 0\n",
    "            omega = (W*s*(1-c))**(1/2)\n",
    "            zeta = 0\n",
    "            errors_W[rhoInd, WInd, :, kInd] = TheoryCurves.getEquiCorrErrorCurve_Homog_Exclusive(alphas, k, c, nu_0, lam, zeta, eta, s = s, omega = omega, rho = rho)\n",
    "            \n",
    "np.save(f'errors_W_lam{lam}.npy', errors_W)"
   ]
  },
  {
   "cell_type": "code",
   "execution_count": 15,
   "metadata": {},
   "outputs": [],
   "source": [
    "for ZInd, Z in enumerate(Z_list):\n",
    "    for rhoInd, rho in enumerate(rhos):\n",
    "        for kInd, k in enumerate(ks):\n",
    "            eta = 0\n",
    "            omega = 0\n",
    "            zeta = (Z*s*(1-c))**(1/2)\n",
    "            errors_Z[rhoInd, ZInd, :, kInd] = TheoryCurves.getEquiCorrErrorCurve_Homog_Exclusive(alphas, k, c, nu_0, lam, zeta, eta, s = s, omega = omega, rho = rho)\n",
    "np.save(f'errors_Z_lam{lam}.npy', errors_Z)"
   ]
  }
 ],
 "metadata": {
  "kernelspec": {
   "display_name": "Python (ffcv)",
   "language": "python",
   "name": "ffcv"
  },
  "language_info": {
   "codemirror_mode": {
    "name": "ipython",
    "version": 3
   },
   "file_extension": ".py",
   "mimetype": "text/x-python",
   "name": "python",
   "nbconvert_exporter": "python",
   "pygments_lexer": "ipython3",
   "version": "3.10.9"
  }
 },
 "nbformat": 4,
 "nbformat_minor": 4
}
