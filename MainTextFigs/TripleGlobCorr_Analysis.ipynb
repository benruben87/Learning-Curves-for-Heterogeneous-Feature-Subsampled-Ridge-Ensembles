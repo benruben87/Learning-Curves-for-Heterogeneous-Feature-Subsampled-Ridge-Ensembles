{
 "cells": [
  {
   "cell_type": "code",
   "execution_count": 1,
   "metadata": {},
   "outputs": [],
   "source": [
    "import numpy as np\n",
    "import time\n",
    "import copy\n",
    "from tqdm import tqdm\n",
    "import os\n",
    "import sys\n",
    "sys.path.append('../')\n",
    "\n",
    "import importlib\n",
    "\n",
    "import matplotlib as mpl\n",
    "from matplotlib import pyplot as plt\n",
    "\n",
    "from collections import OrderedDict\n",
    "\n",
    "import torch\n",
    "from torch.optim import SGD, Adam, lr_scheduler\n",
    "device = 'cuda'\n",
    "\n",
    "import importlib\n",
    "\n",
    "import TheoryCurves\n",
    "importlib.reload(TheoryCurves)\n",
    "\n",
    "import auxFuncs\n",
    "importlib.reload(auxFuncs)\n",
    "\n",
    "import pytz\n",
    "from datetime import datetime\n",
    "from dateutil.relativedelta import relativedelta\n",
    "tz = pytz.timezone('US/Eastern')\n",
    "\n",
    "def time_now():\n",
    "    return datetime.now(tz)\n",
    "\n",
    "def time_diff(t_a, t_b):\n",
    "    t_diff = relativedelta(t_b, t_a)  # later/end time comes first!\n",
    "    return '{h}h {m}m {s}s'.format(h=t_diff.hours, m=t_diff.minutes, s=t_diff.seconds)"
   ]
  },
  {
   "cell_type": "code",
   "execution_count": 2,
   "metadata": {},
   "outputs": [],
   "source": [
    "colors = ['tab:blue', 'tab:red', 'tab:green', 'tab:purple', 'tab:orange', 'tab:brown', 'tab:pink', 'tab:olive', 'tab:cyan']\n",
    "linestyles = ['-', '--', ':', '-.']\n",
    "markerstyles = ['.','*','x']"
   ]
  },
  {
   "cell_type": "code",
   "execution_count": 3,
   "metadata": {},
   "outputs": [],
   "source": [
    "#Width and height of axes.\n",
    "w=2.5\n",
    "h=2\n",
    "plt.rcParams.update({'font.size': 12, 'figure.figsize': [w,h]})\n",
    "\n",
    "SMALL_SIZE = 8\n",
    "MEDIUM_SIZE = 10\n",
    "BIGGER_SIZE = 12\n",
    "\n",
    "plt.rc('font', size=MEDIUM_SIZE)          # controls default text sizes\n",
    "plt.rc('axes', titlesize=MEDIUM_SIZE)     # fontsize of the axes title\n",
    "plt.rc('axes', labelsize=MEDIUM_SIZE)    # fontsize of the x and y labels\n",
    "plt.rc('xtick', labelsize=MEDIUM_SIZE)    # fontsize of the tick labels\n",
    "plt.rc('ytick', labelsize=MEDIUM_SIZE)    # fontsize of the tick labels\n",
    "plt.rc('legend', fontsize=SMALL_SIZE)    # legend fontsize\n",
    "plt.rc('figure', titlesize=BIGGER_SIZE)  # fontsize of the figure title\n",
    "plt.rcParams['legend.title_fontsize'] = 'small'\n",
    "\n",
    "#Helper Function for setting figure size by axis size.\n",
    "#set_size(w,h,ax)\n",
    "def set_size(w,h, ax=None):\n",
    "    \"\"\" w, h: width, height in inches \"\"\"\n",
    "    if not ax: ax=plt.gca()\n",
    "    l = ax.figure.subplotpars.left\n",
    "    r = ax.figure.subplotpars.right\n",
    "    t = ax.figure.subplotpars.top\n",
    "    b = ax.figure.subplotpars.bottom\n",
    "    figw = float(w)/(r-l)\n",
    "    figh = float(h)/(t-b)\n",
    "    ax.figure.set_size_inches(figw, figh)"
   ]
  },
  {
   "cell_type": "code",
   "execution_count": 4,
   "metadata": {},
   "outputs": [],
   "source": [
    "#Reload Data:\n",
    "outputDict = np.load('output_dict.npy', allow_pickle = True).item()"
   ]
  },
  {
   "cell_type": "code",
   "execution_count": 5,
   "metadata": {},
   "outputs": [
    {
     "data": {
      "text/plain": [
       "dict_keys(['num_samples_list', 'lams', 'A_list', 'tr_err', 'test_err', 'Ordering', 'projType', 'sigma_s', 'sigma_0', 'eta', 'zeta', 'aveGTW', 'rho'])"
      ]
     },
     "execution_count": 5,
     "metadata": {},
     "output_type": "execute_result"
    }
   ],
   "source": [
    "outputDict.keys()"
   ]
  },
  {
   "cell_type": "code",
   "execution_count": 6,
   "metadata": {},
   "outputs": [
    {
     "data": {
      "text/plain": [
       "['PInd', 'lamInd', 'trial']"
      ]
     },
     "execution_count": 6,
     "metadata": {},
     "output_type": "execute_result"
    }
   ],
   "source": [
    "outputDict['Ordering']"
   ]
  },
  {
   "cell_type": "code",
   "execution_count": 7,
   "metadata": {},
   "outputs": [],
   "source": [
    "num_samples_list = outputDict['num_samples_list']\n",
    "lams =  outputDict['lams']\n",
    "A_list = outputDict['A_list']\n",
    "tr_err = outputDict['tr_err']\n",
    "test_err = outputDict['test_err']\n",
    "eta = outputDict['eta']\n",
    "sigma_s = outputDict['sigma_s']\n",
    "sigma_0 = outputDict['sigma_0']\n",
    "zeta = outputDict['zeta']\n",
    "rho = outputDict['rho']"
   ]
  },
  {
   "cell_type": "code",
   "execution_count": 8,
   "metadata": {},
   "outputs": [],
   "source": [
    "s = sigma_s[0,0].item()\n",
    "c = sigma_s[0,1].item()/s\n",
    "omega = sigma_0[0,0].item()"
   ]
  },
  {
   "cell_type": "code",
   "execution_count": 9,
   "metadata": {},
   "outputs": [],
   "source": [
    "num_trials = tr_err.shape[1]"
   ]
  },
  {
   "cell_type": "code",
   "execution_count": 10,
   "metadata": {},
   "outputs": [
    {
     "data": {
      "text/plain": [
       "[500, 1500, 2500]"
      ]
     },
     "execution_count": 10,
     "metadata": {},
     "output_type": "execute_result"
    }
   ],
   "source": [
    "ns = [A.shape[0] for A in A_list]\n",
    "ns"
   ]
  },
  {
   "cell_type": "markdown",
   "metadata": {},
   "source": [
    "## Calculate Theory Curve: A_list"
   ]
  },
  {
   "cell_type": "code",
   "execution_count": 11,
   "metadata": {},
   "outputs": [
    {
     "data": {
      "text/plain": [
       "<module 'TheoryCurves' from '/n/home07/bruben/Simulations/Ensemble_Master/TripleGlobCorr/../TheoryCurves.py'>"
      ]
     },
     "execution_count": 11,
     "metadata": {},
     "output_type": "execute_result"
    }
   ],
   "source": [
    "importlib.reload(TheoryCurves)"
   ]
  },
  {
   "cell_type": "code",
   "execution_count": 16,
   "metadata": {},
   "outputs": [],
   "source": [
    "M = sigma_0.shape[0]\n",
    "alpha_min = num_samples_list[0]/M\n",
    "alpha_max = num_samples_list[-1]/M\n",
    "alphas_theory = np.linspace(alpha_min, alpha_max, 10000)\n",
    "nus = np.array(ns)/M\n",
    "\n",
    "AllTotErrors = []\n",
    "#AllTotErrors_Hybrid = []\n",
    "for lamInd, lam in enumerate(lams):\n",
    "    TotErrors = TheoryCurves.getGlobCorrErrorCurve(alphas_theory, nus, c, lam, zeta, eta, s=s, omega=omega, rho = rho, exclusive = True)\n",
    " #   Couplings, TotErrors_Hybrid = TheoryCurves.getLinearErrorCurve(sigma_s, sigma_0, A_list, zeta, eta, w_star, lam, alphas_theory, max_iter=200, verbose = True, RS = True, UseGlobCorrSP=True)\n",
    "    AllTotErrors.append(TotErrors)\n",
    " #   AllTotErrors_Hybrid.append(TotErrors_Hybrid)"
   ]
  },
  {
   "cell_type": "code",
   "execution_count": 17,
   "metadata": {},
   "outputs": [],
   "source": [
    "# #ax.errorbar(num_samples_list, tr_err[KInd, ConnDistInd, :, lamInd, EnsFuncInd, :].mean(1), tr_err[KInd, ConnDistInd, :, lamInd, EnsFuncInd, :].std(1), ls = linestyles[ConnDistInd], color = colors[EnsFuncInd], lw = 1, marker = markerstyles[0], label = ConnDist + ', ' + EnsFunc)\n",
    "# for lamInd, lam in enumerate(lams):\n",
    "#     fig, ax = plt.subplots()\n",
    "#     ax.plot(num_samples_list, tr_err[:, lamInd, :].mean(1))\n",
    "#     ax.set_ylabel('Training Error')\n",
    "#     ax.set_xlabel(r'$P$')\n",
    "#     ax.set_title(r'$\\lambda$ = ' + str(lam))\n",
    "\n",
    "# #ax.legend(custom_lines, ['Shift = ' + str(shift) for shift in shift_list] + ['K = '+str(K) for K in KVals], bbox_to_anchor = (1.9, 1), loc = 'upper right')\n",
    "# #ax.legend(bbox_to_anchor = (1.05, 1), loc = 'upper left')\n",
    "\n",
    "# #fig = plt.gcf()\n",
    "# #fig.savefig(figPath+'train_err_plot'+'.pdf', bbox_inches='tight')\n",
    "# fig.tight_layout()"
   ]
  },
  {
   "cell_type": "code",
   "execution_count": 18,
   "metadata": {},
   "outputs": [],
   "source": [
    "def getLamColor(lam):\n",
    "    if lam == 0:\n",
    "        return 'tab:purple'\n",
    "    if lam == 1e-6:\n",
    "        return 'tab:blue'\n",
    "    if lam == 1e-3:\n",
    "        return 'tab:red'\n",
    "    if lam == 1:\n",
    "        return 'tab:green'\n",
    "    else:\n",
    "        raise Exception('Lam Not In Values Used')"
   ]
  },
  {
   "cell_type": "code",
   "execution_count": 19,
   "metadata": {},
   "outputs": [
    {
     "data": {
      "image/png": "[encoded data removed]",
      "text/plain": [
       "<Figure size 139.355x95.3642 with 1 Axes>"
      ]
     },
     "metadata": {
      "needs_background": "light"
     },
     "output_type": "display_data"
    }
   ],
   "source": [
    "fig, ax = plt.subplots()\n",
    "for lamInd, lam in enumerate(lams):\n",
    "        curcolor  = getLamColor(lam)\n",
    "#         if lam==0:\n",
    "#             ax.errorbar(num_samples_list/M, test_err[:,lamInd,:].mean(1), test_err[:,lamInd,:].std(1)/np.sqrt(test_err.shape[-1]), marker = '*', markersize = 3, ls = '', color = curcolor)\n",
    "#             ax.plot(alphas_theory, AllTotErrors[lamInd],  color = curcolor, label =str(lam), lw = 2, ls = '--')\n",
    "#         else:\n",
    "\n",
    "        #if lamInd>0:\n",
    "        ax.errorbar(num_samples_list/M, test_err[:,lamInd,:].mean(1), test_err[:,lamInd,:].std(1)/np.sqrt(test_err.shape[-1]), marker = '.', markersize = 2.5, ls = '', color = curcolor)\n",
    "        ax.plot(alphas_theory, AllTotErrors[lamInd],  color = curcolor, label =str(lam), lw=1)\n",
    "\n",
    "        ax.grid(True, linestyle='--', alpha=0.6)  # Add a grid\n",
    "        ax.set_ylabel(r'$E_g$')\n",
    "        ax.set_xlabel(r'$\\alpha = P/M$')\n",
    "        #ax.set_title(r'$\\lambda$ = ' + str(lam) )\n",
    "\n",
    "        ax.set_xlim([0, ax.get_xlim()[1]])\n",
    "        ax.set_yscale('log')\n",
    "        ax.set_ylim([.2,7*10**1])\n",
    "        ax.set_xticks([0, .5, 1])\n",
    "\n",
    "        \n",
    "        #ax.legend(custom_lines, ['Shift = ' + str(shift) for shift in shift_list] + ['K = '+str(K) for K in KVals], bbox_to_anchor = (1.9, 1), loc = 'upper right')\n",
    "        ax.legend(bbox_to_anchor = (1.05, 1), loc = 'upper left', title = r'$\\lambda$')\n",
    "\n",
    "        #fig = plt.gcf()\n",
    "        set_size(1.5,1)\n",
    "        fig.savefig('test_err_plot_TripleGlobCorr.svg', bbox_inches='tight', dpi = 300)\n",
    "        #fig.tight_layout()"
   ]
  }
 ],
 "metadata": {
  "kernelspec": {
   "display_name": "Python (ffcv)",
   "language": "python",
   "name": "ffcv"
  },
  "language_info": {
   "codemirror_mode": {
    "name": "ipython",
    "version": 3
   },
   "file_extension": ".py",
   "mimetype": "text/x-python",
   "name": "python",
   "nbconvert_exporter": "python",
   "pygments_lexer": "ipython3",
   "version": "3.9.13"
  }
 },
 "nbformat": 4,
 "nbformat_minor": 4
}
