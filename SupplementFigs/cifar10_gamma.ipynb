{
 "cells": [
  {
   "cell_type": "code",
   "execution_count": 1,
   "metadata": {},
   "outputs": [],
   "source": [
    "import numpy as np\n",
    "import time\n",
    "from datetime import datetime\n",
    "import copy\n",
    "from tqdm import tqdm\n",
    "import os\n",
    "import matplotlib as mpl\n",
    "from matplotlib import pyplot as plt\n",
    "\n",
    "import importlib, FeatSubLib, dataset_ffcv_torch\n",
    "importlib.reload(FeatSubLib)\n",
    "importlib.reload(dataset_ffcv_torch)\n",
    "from FeatSubLib import FeatureNet, CustomCallback, CustomMultiReadoutCallback, CustomModel, CustomMultiReadoutModel, time_diff\n",
    "import dataset_ffcv_torch as ds\n",
    "\n",
    "from collections import OrderedDict\n",
    "\n",
    "import torch\n",
    "from torch.optim import SGD, Adam, lr_scheduler\n",
    "device = 'cuda'\n",
    "\n",
    "import pytz\n",
    "from datetime import datetime\n",
    "from dateutil.relativedelta import relativedelta\n",
    "tz = pytz.timezone('US/Eastern')\n",
    "\n",
    "def time_now():\n",
    "    return datetime.now(tz)\n",
    "\n",
    "def time_diff(t_a, t_b):\n",
    "    t_diff = relativedelta(t_b, t_a)  # later/end time comes first!\n",
    "    return '{h}h {m}m {s}s'.format(h=t_diff.hours, m=t_diff.minutes, s=t_diff.seconds)"
   ]
  },
  {
   "cell_type": "code",
   "execution_count": 2,
   "metadata": {},
   "outputs": [],
   "source": [
    "colors = ['tab:blue', 'tab:orange', 'tab:green', 'tab:red', 'tab:purple', 'tab:brown', 'tab:pink', 'tab:gray', 'tab:olive', 'tab:cyan']\n",
    "linestyles = ['--', ':', '-.']\n",
    "markerstyles = ['.','*','x']"
   ]
  },
  {
   "cell_type": "code",
   "execution_count": 3,
   "metadata": {},
   "outputs": [],
   "source": [
    "#Width and height of axes.\n",
    "w=3\n",
    "h=3\n",
    "plt.rcParams.update({'font.size': 12, 'figure.figsize': [w,h]})\n",
    "\n",
    "SMALL_SIZE = 12\n",
    "MEDIUM_SIZE = 14\n",
    "BIGGER_SIZE = 16\n",
    "\n",
    "plt.rc('font', size=MEDIUM_SIZE)          # controls default text sizes\n",
    "plt.rc('axes', titlesize=MEDIUM_SIZE)     # fontsize of the axes title\n",
    "plt.rc('axes', labelsize=MEDIUM_SIZE)    # fontsize of the x and y labels\n",
    "plt.rc('xtick', labelsize=MEDIUM_SIZE)    # fontsize of the tick labels\n",
    "plt.rc('ytick', labelsize=MEDIUM_SIZE)    # fontsize of the tick labels\n",
    "plt.rc('legend', fontsize=SMALL_SIZE)    # legend fontsize\n",
    "plt.rc('figure', titlesize=BIGGER_SIZE)  # fontsize of the figure title\n",
    "plt.rcParams['legend.title_fontsize'] = 'small'\n",
    "\n",
    "#Helper Function for setting figure size by axis size.\n",
    "#set_size(w,h,ax)\n",
    "def set_size(w,h, ax=None):\n",
    "    \"\"\" w, h: width, height in inches \"\"\"\n",
    "    if not ax: ax=plt.gca()\n",
    "    l = ax.figure.subplotpars.left\n",
    "    r = ax.figure.subplotpars.right\n",
    "    t = ax.figure.subplotpars.top\n",
    "    b = ax.figure.subplotpars.bottom\n",
    "    figw = float(w)/(r-l)\n",
    "    figh = float(h)/(t-b)\n",
    "    ax.figure.set_size_inches(figw, figh)"
   ]
  },
  {
   "cell_type": "code",
   "execution_count": 4,
   "metadata": {},
   "outputs": [],
   "source": [
    "dataset_name = 'cifar10'"
   ]
  },
  {
   "cell_type": "code",
   "execution_count": 3,
   "metadata": {},
   "outputs": [],
   "source": [
    "hidden_width_list = [1000, 1000, 1000]\n",
    "## Experiment Parameters\n",
    "EPOCHS = 2000\n",
    "opt_name, lr = 'adam', .001"
   ]
  },
  {
   "cell_type": "code",
   "execution_count": 4,
   "metadata": {},
   "outputs": [
    {
     "name": "stdout",
     "output_type": "stream",
     "text": [
      "Files already downloaded and verified\n",
      "Files already downloaded and verified\n"
     ]
    }
   ],
   "source": [
    "train_size = 50000\n",
    "x_train, y_train, x_test, y_test, input_dim, num_classes = ds.create_sorted_dataset(train_size, dataset_name, to_onehot=True, flatten=True)\n",
    "train_loader = [(x_train, y_train)]\n",
    "test_loader = [(x_test, y_test)]"
   ]
  },
  {
   "cell_type": "code",
   "execution_count": 38,
   "metadata": {},
   "outputs": [
    {
     "data": {
      "text/plain": [
       "torch.Size([50000, 3072])"
      ]
     },
     "execution_count": 38,
     "metadata": {},
     "output_type": "execute_result"
    }
   ],
   "source": [
    "x_train.shape"
   ]
  },
  {
   "cell_type": "code",
   "execution_count": 5,
   "metadata": {},
   "outputs": [
    {
     "name": "stdout",
     "output_type": "stream",
     "text": [
      "Training Started... Wed May 24 12:27:33 2023\n",
      "Epoch: 2000 | Loss -- Tr: 7536.324 | Tr/Test Acc: 89.8, 53.9 | Tr/Test Loss: 7536.324, 3495.032 | dt: 0h 5m 2s -------\n",
      " Training finished! Total time: 0h 5m 2s\n"
     ]
    }
   ],
   "source": [
    "base_model = FeatureNet(input_dim, num_classes, hidden_width_list, ntk=True).cuda()\n",
    "# Compile the model\n",
    "opt = Adam(base_model.parameters(), lr=lr)\n",
    "# Scheduler = lr_scheduler.ReduceLROnPlateau(opt)\n",
    "scheduler = None\n",
    "loss_fn = lambda y_pred, y: (torch.sum((y_pred - y)**2))/2 #+ lam*torch.sum(torch.abs(features))\n",
    "callback = CustomCallback(num_classes)\n",
    "teacher_model = CustomModel(base_model)\n",
    "teacher_model.compile(opt, loss_fn, callback, scheduler)\n",
    "teacher_model.fit(train_loader, test_loader, EPOCHS)"
   ]
  },
  {
   "cell_type": "code",
   "execution_count": 6,
   "metadata": {},
   "outputs": [
    {
     "data": {
      "text/plain": [
       "Text(0.5, 1.0, 'Accuracy')"
      ]
     },
     "execution_count": 6,
     "metadata": {},
     "output_type": "execute_result"
    },
    {
     "data": {
      "image/png": "[encoded data removed]",
      "text/plain": [
       "<Figure size 432x288 with 1 Axes>"
      ]
     },
     "metadata": {
      "needs_background": "light"
     },
     "output_type": "display_data"
    },
    {
     "data": {
      "image/png": "[encoded data removed]",
      "text/plain": [
       "<Figure size 432x288 with 1 Axes>"
      ]
     },
     "metadata": {
      "needs_background": "light"
     },
     "output_type": "display_data"
    }
   ],
   "source": [
    "history = callback.get_history()\n",
    "\n",
    "fig, ax = plt.subplots()\n",
    "ax.plot(history[0])\n",
    "ax.set_title('Training Loss')\n",
    "\n",
    "fig, ax = plt.subplots()\n",
    "ax.plot(history[1], label = 'Train Accuracy')\n",
    "ax.plot(history[2], label = 'Test Accuracy')\n",
    "ax.legend(loc = 'lower right')\n",
    "ax.set_title('Accuracy')"
   ]
  },
  {
   "cell_type": "code",
   "execution_count": 11,
   "metadata": {},
   "outputs": [],
   "source": [
    "shifts = np.array([0])"
   ]
  },
  {
   "cell_type": "code",
   "execution_count": 12,
   "metadata": {},
   "outputs": [],
   "source": [
    "#Log the sparsity of the features as a function of shift at each P value.\n",
    "base_feature_map = teacher_model.model.feature_map\n",
    "sparsityFractions = np.empty(shifts.shape[0])\n",
    "sparsityVariances = np.empty(shifts.shape[0])\n",
    "features = base_feature_map(x_train).detach().cpu().numpy()\n",
    "for shiftInd, shift in enumerate(shifts):\n",
    "    curSparsities = np.sum((features+shift)>0, axis=1)/features.shape[1]\n",
    "    sparsityFractions[shiftInd]=np.mean(curSparsities)\n",
    "    sparsityVariances[shiftInd]=np.std(curSparsities)"
   ]
  },
  {
   "cell_type": "code",
   "execution_count": 13,
   "metadata": {},
   "outputs": [
    {
     "name": "stdout",
     "output_type": "stream",
     "text": [
      "[0.58558438]\n"
     ]
    }
   ],
   "source": [
    "if len(shifts)<1:\n",
    "    fig, ax = plt.subplots()\n",
    "    ax.plot(shifts, sparsityFractions)\n",
    "    ax.set_xlim([shifts[0], shifts[-1]])\n",
    "    ax.set_xlabel('Shift', fontsize=20)\n",
    "    ax.set_ylabel('Sparsity Fraction', fontsize=20)\n",
    "    ax.set_ylim([0,1])\n",
    "else:\n",
    "    print(sparsityFractions)"
   ]
  },
  {
   "cell_type": "markdown",
   "metadata": {},
   "source": [
    "## Get eigenspectrum of larned features"
   ]
  },
  {
   "cell_type": "code",
   "execution_count": 14,
   "metadata": {},
   "outputs": [
    {
     "data": {
      "text/plain": [
       "(50000, 1000)"
      ]
     },
     "execution_count": 14,
     "metadata": {},
     "output_type": "execute_result"
    }
   ],
   "source": [
    "features.shape"
   ]
  },
  {
   "cell_type": "code",
   "execution_count": 34,
   "metadata": {},
   "outputs": [],
   "source": [
    "import numpy as np\n",
    "import matplotlib.pyplot as plt\n",
    "from scipy.optimize import curve_fit\n",
    "\n",
    "# Define power law function\n",
    "def power_law(x, a, b):\n",
    "    return a*np.power(x, b)\n",
    "\n",
    "def process_matrix(matrix):\n",
    "    # Center the matrix\n",
    "    matrix_centered = matrix - np.mean(matrix, axis=0)\n",
    "\n",
    "    # Compute the empirical covariance matrix\n",
    "    cov_matrix = np.cov(matrix_centered, rowvar=False)\n",
    "\n",
    "    # Compute the eigenvalues of the covariance matrix\n",
    "    eigenvalues, _ = np.linalg.eig(cov_matrix)\n",
    "\n",
    "    # Sort eigenvalues in decreasing order\n",
    "    eigenvalues = np.sort(eigenvalues)[::-1]\n",
    "\n",
    "    # Fit to a power law\n",
    "    xdata = np.arange(len(eigenvalues)) + 1\n",
    "    params, _ = curve_fit(power_law, xdata, eigenvalues, p0=(1, -1))\n",
    "\n",
    "    # Plot singular values and fitted power law\n",
    "    fig, ax = plt.subplots()\n",
    "    ax.loglog(eigenvalues, 'b-', label='Eigenvalues')\n",
    "    ax.loglog(xdata, power_law(xdata, *params), 'r-', label=f'fitted power law: y={params[0]:.2f}x^{params[1]:.2f}')\n",
    "    ax.set_xlabel('Rank')\n",
    "    ax.set_ylabel('Eigenvalue')\n",
    "    ax.set_title('Eigenvalues and fitted power law')\n",
    "    set_size(3,3)\n",
    "    ax.legend(bbox_to_anchor = (1.05, 1), loc = 'upper left')\n",
    "    fig = plt.gcf()\n",
    "    plt.savefig('Cifar10FeaturesEigenSpectrum.png', dpi = 300, bbox_inches = 'tight')"
   ]
  },
  {
   "cell_type": "code",
   "execution_count": 36,
   "metadata": {},
   "outputs": [
    {
     "data": {
      "image/png": "[encoded data removed]",
      "text/plain": [
       "<Figure size 278.71x286.093 with 1 Axes>"
      ]
     },
     "metadata": {
      "needs_background": "light"
     },
     "output_type": "display_data"
    }
   ],
   "source": [
    "process_matrix(features)"
   ]
  },
  {
   "cell_type": "markdown",
   "metadata": {},
   "source": [
    "# General Function for Experiment"
   ]
  },
  {
   "cell_type": "code",
   "execution_count": 11,
   "metadata": {},
   "outputs": [],
   "source": [
    "def runExpt(base_feature_map, dataset, projType, learningRule, ConnDist, OutStrategy, num_samples_list, KVals, shifts, x_train, y_train, x_test, y_test, num_trials = 10, shuffle_degrees = True, stdFrac = 1/2):\n",
    "    \n",
    "    dataPath = dataset+'_'+projType+'_'+learningRule+'_'+ConnDist+'Conn_'+OutStrategy+'_data/'\n",
    "    print(dataPath)\n",
    "    if not os.path.exists(dataPath):\n",
    "        # Create a new directory because it does not exist \n",
    "        os.makedirs(dataPath)\n",
    "        print(\"The new data directory is created!\")\n",
    "    \n",
    "    numShifts = len(shifts)\n",
    "    numKVals = len(KVals)\n",
    "    numPVals = len(num_samples_list)\n",
    "    \n",
    "    loss_fn = lambda y_pred, y: (torch.sum((y_pred - y)**2))/2\n",
    "    scheduler = None\n",
    "    \n",
    "    tr_loss = np.empty([numPVals, numKVals, numShifts, num_trials])\n",
    "    test_loss = np.empty([numPVals, numKVals, numShifts, num_trials])\n",
    "    tr_acc = np.empty([numPVals, numKVals, numShifts, num_trials])\n",
    "    test_acc = np.empty([numPVals, numKVals,numShifts, num_trials])\n",
    "    tr_err = np.empty([numPVals, numKVals,numShifts, num_trials])\n",
    "    test_err = np.empty([numPVals, numKVals,numShifts, num_trials])\n",
    "\n",
    "    for PInd,P in enumerate(num_samples_list):\n",
    "        for KInd, K in enumerate(KVals):\n",
    "            for shiftInd, shift in enumerate(shifts):  \n",
    "                start_time = datetime.now(tz)\n",
    "                #Note: stdFrac is only used when ConnDist is gauss or gamma.\n",
    "                proj_ratios = FeatSubLib.genAlphas(K, ConnDist, stdFrac)\n",
    "                for trial in range(num_trials):\n",
    "                    indices = np.random.permutation(train_size)[:int(P)]\n",
    "                    train_loader = [(x_train[indices,:], y_train[indices,:])]\n",
    "                    if shuffle_degrees:\n",
    "                        proj_ratios = FeatSubLib.genAlphas(K, ConnDist)\n",
    "                    student = FeatSubLib.StudentNetwork(base_feature_map, num_classes, proj_ratios, shift=shift, OutStrategy = OutStrategy)\n",
    "                    opt = Adam(student.parameters(), lr=lr)\n",
    "\n",
    "                    callback = CustomMultiReadoutCallback(num_classes, verbose = False)\n",
    "                    student_model = CustomMultiReadoutModel(student)\n",
    "                    student_model.compile(opt, loss_fn, callback, scheduler)\n",
    "                    #student_model.fit(train_loader, test_loader, EPOCHS)\n",
    "                    \n",
    "                    if learningRule == 'lr':\n",
    "                        student_model.regress_readout(train_loader, test_loader)\n",
    "                    elif learningRule == 'hebb':\n",
    "                        student_model.hebbCenter_readout(train_loader, test_loader)\n",
    "                    else:\n",
    "                        raise Exception('Learning rule must be lr or hebb')\n",
    "\n",
    "                    tr_loss[PInd, KInd, shiftInd, trial]=callback.losses[-1]\n",
    "                    test_loss[PInd, KInd, shiftInd, trial]=callback.test_losses[-1]\n",
    "                    tr_acc[PInd, KInd, shiftInd, trial]=callback.tr_acc[-1]\n",
    "                    test_acc[PInd, KInd, shiftInd, trial]=callback.test_acc[-1]\n",
    "                    tr_err[PInd, KInd, shiftInd, trial]=callback.tr_err[-1]\n",
    "                    test_err[PInd, KInd, shiftInd, trial]=callback.test_err[-1]\n",
    "                print('P ='+str(P)+ '; K = ' + str(K) + '; alpha = ' + str(proj_ratios) + '; shift = ' + str(shift) + '; time: ' + str(time_diff(start_time, datetime.now(tz))))\n",
    "    \n",
    "    np.save(dataPath+'num_samples_list', num_samples_list)\n",
    "    np.save(dataPath+'K_list', KVals)\n",
    "    np.save(dataPath+'shift_list', shifts)\n",
    "    np.save(dataPath+'sparsity_fracs', sparsityFractions)\n",
    "    np.save(dataPath+'sparsity_vars', sparsityVariances)   \n",
    "    torch.save(tr_loss, dataPath+'tr_loss.pt')\n",
    "    torch.save(test_loss, dataPath+'test_loss.pt')\n",
    "    torch.save(tr_acc, dataPath+'tr_acc.pt')\n",
    "    torch.save(test_acc, dataPath+'test_acc.pt')\n",
    "    torch.save(tr_err, dataPath+'tr_err.pt')\n",
    "    torch.save(test_err, dataPath+'test_err.pt') "
   ]
  },
  {
   "cell_type": "markdown",
   "metadata": {},
   "source": [
    "## Experimental Parameters"
   ]
  },
  {
   "cell_type": "code",
   "execution_count": 13,
   "metadata": {},
   "outputs": [],
   "source": [
    "num_trials = 5\n",
    "KVals = np.array([1,4,7,10])\n",
    "num_samples_list = np.round(np.logspace(2, np.log10(10000), 40))\n",
    "shifts = np.array([0])\n",
    "num_trials = 20"
   ]
  },
  {
   "cell_type": "code",
   "execution_count": 24,
   "metadata": {},
   "outputs": [],
   "source": [
    "importlib.reload(FeatSubLib)\n",
    "from FeatSubLib import FeatureNet, CustomCallback, CustomMultiReadoutCallback, CustomModel, CustomMultiReadoutModel, time_diff"
   ]
  },
  {
   "cell_type": "markdown",
   "metadata": {},
   "source": [
    "## Run experiment"
   ]
  },
  {
   "cell_type": "code",
   "execution_count": 25,
   "metadata": {
    "collapsed": true,
    "jupyter": {
     "outputs_hidden": true
    }
   },
   "outputs": [
    {
     "name": "stdout",
     "output_type": "stream",
     "text": [
      "cifar10_np_lr_gammaConn_threshmean_data/\n",
      "P =100.0; K = 1; alpha = [1.]; shift = 0; time: 0h 0m 0s\n",
      "P =100.0; K = 4; alpha = [0.25015834 0.12171269 0.49156098 0.13656799]; shift = 0; time: 0h 0m 0s\n",
      "P =100.0; K = 7; alpha = [0.19809946 0.12274776 0.13944533 0.11043471 0.13384588 0.06809258\n",
      " 0.22733429]; shift = 0; time: 0h 0m 1s\n",
      "P =100.0; K = 10; alpha = [0.02969285 0.13175152 0.12870797 0.13056628 0.09301124 0.05368281\n",
      " 0.11328767 0.03737604 0.25301753 0.0289061 ]; shift = 0; time: 0h 0m 1s\n",
      "P =113.0; K = 1; alpha = [1.]; shift = 0; time: 0h 0m 0s\n",
      "P =113.0; K = 4; alpha = [0.06648827 0.361731   0.23098003 0.3408007 ]; shift = 0; time: 0h 0m 1s\n",
      "P =113.0; K = 7; alpha = [0.19593534 0.04754292 0.13871404 0.08529388 0.13850286 0.10394416\n",
      " 0.2900668 ]; shift = 0; time: 0h 0m 1s\n",
      "P =113.0; K = 10; alpha = [0.09278428 0.14183587 0.10396337 0.11531121 0.02916053 0.16966568\n",
      " 0.15708955 0.07775935 0.025894   0.08653614]; shift = 0; time: 0h 0m 1s\n",
      "P =127.0; K = 1; alpha = [1.]; shift = 0; time: 0h 0m 0s\n",
      "P =127.0; K = 4; alpha = [0.32131145 0.39569702 0.10740382 0.17558771]; shift = 0; time: 0h 0m 1s\n",
      "P =127.0; K = 7; alpha = [0.12769757 0.16175448 0.17851067 0.02141518 0.2240646  0.17451783\n",
      " 0.11203967]; shift = 0; time: 0h 0m 1s\n",
      "P =127.0; K = 10; alpha = [0.05251781 0.1113801  0.22626677 0.09977532 0.14121626 0.06627549\n",
      " 0.06264748 0.07966464 0.04265591 0.11760021]; shift = 0; time: 0h 0m 1s\n",
      "P =143.0; K = 1; alpha = [1.]; shift = 0; time: 0h 0m 0s\n",
      "P =143.0; K = 4; alpha = [0.41750758 0.21787775 0.0983305  0.26628417]; shift = 0; time: 0h 0m 1s\n",
      "P =143.0; K = 7; alpha = [0.07489252 0.18772769 0.10455407 0.24126236 0.11363106 0.11897788\n",
      " 0.15895442]; shift = 0; time: 0h 0m 1s\n",
      "P =143.0; K = 10; alpha = [0.14270014 0.13101989 0.09030504 0.06000405 0.04333478 0.11689397\n",
      " 0.0549094  0.12112036 0.13902193 0.10069043]; shift = 0; time: 0h 0m 1s\n",
      "P =160.0; K = 1; alpha = [1.]; shift = 0; time: 0h 0m 0s\n",
      "P =160.0; K = 4; alpha = [0.24554349 0.26178088 0.29300786 0.19966777]; shift = 0; time: 0h 0m 1s\n",
      "P =160.0; K = 7; alpha = [0.18702003 0.20010817 0.12784958 0.1409057  0.09624205 0.07308155\n",
      " 0.17479292]; shift = 0; time: 0h 0m 1s\n",
      "P =160.0; K = 10; alpha = [0.07037522 0.06658191 0.05962035 0.06553266 0.03104618 0.14322705\n",
      " 0.02846116 0.15170439 0.23491946 0.14853162]; shift = 0; time: 0h 0m 1s\n",
      "P =180.0; K = 1; alpha = [1.]; shift = 0; time: 0h 0m 0s\n",
      "P =180.0; K = 4; alpha = [0.47854605 0.13614274 0.17943799 0.20587323]; shift = 0; time: 0h 0m 1s\n",
      "P =180.0; K = 7; alpha = [0.21737463 0.11597619 0.10056891 0.14717133 0.15663808 0.1457458\n",
      " 0.11652506]; shift = 0; time: 0h 0m 1s\n",
      "P =180.0; K = 10; alpha = [0.09443729 0.11560755 0.1044625  0.10349042 0.06930767 0.12061069\n",
      " 0.12951245 0.15673117 0.04530035 0.0605399 ]; shift = 0; time: 0h 0m 1s\n",
      "P =203.0; K = 1; alpha = [1.]; shift = 0; time: 0h 0m 0s\n",
      "P =203.0; K = 4; alpha = [0.25771953 0.23670492 0.23554541 0.27003014]; shift = 0; time: 0h 0m 1s\n",
      "P =203.0; K = 7; alpha = [0.15109835 0.09843728 0.12411979 0.1137198  0.18858518 0.17603515\n",
      " 0.14800446]; shift = 0; time: 0h 0m 1s\n",
      "P =203.0; K = 10; alpha = [0.13639685 0.11568545 0.13122126 0.10748832 0.03273875 0.13673498\n",
      " 0.13267914 0.0459092  0.07578341 0.08536263]; shift = 0; time: 0h 0m 1s\n",
      "P =229.0; K = 1; alpha = [1.]; shift = 0; time: 0h 0m 0s\n",
      "P =229.0; K = 4; alpha = [0.13358102 0.29240045 0.3577668  0.21625173]; shift = 0; time: 0h 0m 1s\n",
      "P =229.0; K = 7; alpha = [0.10808268 0.07893522 0.21643472 0.09494567 0.16605125 0.12448353\n",
      " 0.21106694]; shift = 0; time: 0h 0m 1s\n",
      "P =229.0; K = 10; alpha = [0.06910552 0.08835749 0.11679371 0.07831196 0.09885909 0.10852127\n",
      " 0.14834791 0.09359698 0.05431749 0.14378858]; shift = 0; time: 0h 0m 1s\n",
      "P =257.0; K = 1; alpha = [1.]; shift = 0; time: 0h 0m 0s\n",
      "P =257.0; K = 4; alpha = [0.23801698 0.07546045 0.48843546 0.19808711]; shift = 0; time: 0h 0m 1s\n",
      "P =257.0; K = 7; alpha = [0.10605876 0.15675158 0.03807072 0.15896993 0.09245546 0.38618084\n",
      " 0.06151272]; shift = 0; time: 0h 0m 1s\n",
      "P =257.0; K = 10; alpha = [0.07047793 0.10775514 0.10572174 0.05387282 0.16104846 0.05743952\n",
      " 0.13699855 0.05390928 0.05837699 0.19439958]; shift = 0; time: 0h 0m 1s\n",
      "P =289.0; K = 1; alpha = [1.]; shift = 0; time: 0h 0m 0s\n",
      "P =289.0; K = 4; alpha = [0.37558393 0.28182575 0.20691501 0.13567531]; shift = 0; time: 0h 0m 1s\n",
      "P =289.0; K = 7; alpha = [0.04269437 0.20115128 0.07516682 0.32206827 0.17842641 0.13922047\n",
      " 0.04127238]; shift = 0; time: 0h 0m 1s\n",
      "P =289.0; K = 10; alpha = [0.07805378 0.06599348 0.08588367 0.10257261 0.1693638  0.10985608\n",
      " 0.07460779 0.08882816 0.16778554 0.05705512]; shift = 0; time: 0h 0m 1s\n",
      "P =326.0; K = 1; alpha = [1.]; shift = 0; time: 0h 0m 0s\n",
      "P =326.0; K = 4; alpha = [0.27329875 0.11665925 0.27034187 0.33970014]; shift = 0; time: 0h 0m 1s\n",
      "P =326.0; K = 7; alpha = [0.15184307 0.24623359 0.10521947 0.11518827 0.15355015 0.09466268\n",
      " 0.13330276]; shift = 0; time: 0h 0m 1s\n",
      "P =326.0; K = 10; alpha = [0.03676396 0.15658672 0.09919722 0.06863221 0.07554955 0.19344575\n",
      " 0.03902185 0.16660946 0.0896868  0.07450649]; shift = 0; time: 0h 0m 1s\n",
      "P =367.0; K = 1; alpha = [1.]; shift = 0; time: 0h 0m 0s\n",
      "P =367.0; K = 4; alpha = [0.1454182  0.19103196 0.36964931 0.29390053]; shift = 0; time: 0h 0m 1s\n",
      "P =367.0; K = 7; alpha = [0.29617833 0.1342377  0.13339132 0.09133998 0.00627191 0.20439385\n",
      " 0.13418691]; shift = 0; time: 0h 0m 1s\n",
      "P =367.0; K = 10; alpha = [0.12783183 0.03255816 0.06170749 0.12115116 0.12851662 0.0980364\n",
      " 0.14187239 0.07930338 0.13644903 0.07257353]; shift = 0; time: 0h 0m 1s\n",
      "P =412.0; K = 1; alpha = [1.]; shift = 0; time: 0h 0m 0s\n",
      "P =412.0; K = 4; alpha = [0.20489805 0.31334057 0.2320619  0.24969947]; shift = 0; time: 0h 0m 1s\n",
      "P =412.0; K = 7; alpha = [0.09518844 0.12198218 0.17899224 0.04960529 0.12336424 0.22120148\n",
      " 0.20966614]; shift = 0; time: 0h 0m 1s\n",
      "P =412.0; K = 10; alpha = [0.05126176 0.09852777 0.13419442 0.05495121 0.14165777 0.17004884\n",
      " 0.12667013 0.08691041 0.04659841 0.08917927]; shift = 0; time: 0h 0m 1s\n",
      "P =464.0; K = 1; alpha = [1.]; shift = 0; time: 0h 0m 1s\n",
      "P =464.0; K = 4; alpha = [0.16318113 0.38339855 0.37422649 0.07919383]; shift = 0; time: 0h 0m 1s\n",
      "P =464.0; K = 7; alpha = [0.29925024 0.05347293 0.13618001 0.17289143 0.13668438 0.1323465\n",
      " 0.06917452]; shift = 0; time: 0h 0m 1s\n",
      "P =464.0; K = 10; alpha = [0.08556079 0.03408975 0.1344022  0.11392117 0.12175629 0.04210521\n",
      " 0.09793123 0.13416495 0.16063358 0.07543483]; shift = 0; time: 0h 0m 1s\n",
      "P =522.0; K = 1; alpha = [1.]; shift = 0; time: 0h 0m 1s\n",
      "P =522.0; K = 4; alpha = [0.35966469 0.18675917 0.26215321 0.19142294]; shift = 0; time: 0h 0m 1s\n",
      "P =522.0; K = 7; alpha = [0.11804676 0.10475508 0.1584652  0.08056049 0.18833466 0.25488622\n",
      " 0.09495159]; shift = 0; time: 0h 0m 1s\n",
      "P =522.0; K = 10; alpha = [0.02246012 0.03067312 0.15626022 0.07009255 0.15910514 0.16206075\n",
      " 0.08301906 0.12304493 0.11589495 0.07738916]; shift = 0; time: 0h 0m 1s\n",
      "P =588.0; K = 1; alpha = [1.]; shift = 0; time: 0h 0m 1s\n",
      "P =588.0; K = 4; alpha = [0.36378251 0.1811458  0.1534749  0.30159679]; shift = 0; time: 0h 0m 1s\n",
      "P =588.0; K = 7; alpha = [0.20171671 0.19030918 0.18396742 0.08587933 0.06202822 0.12472296\n",
      " 0.15137617]; shift = 0; time: 0h 0m 1s\n",
      "P =588.0; K = 10; alpha = [0.08218809 0.08555806 0.16851128 0.18358901 0.05813621 0.16338566\n",
      " 0.0985122  0.05943122 0.05488801 0.04580026]; shift = 0; time: 0h 0m 1s\n",
      "P =661.0; K = 1; alpha = [1.]; shift = 0; time: 0h 0m 1s\n",
      "P =661.0; K = 4; alpha = [0.22900167 0.29291268 0.26966066 0.20842499]; shift = 0; time: 0h 0m 1s\n",
      "P =661.0; K = 7; alpha = [0.09516648 0.22417812 0.08694864 0.11921801 0.30337517 0.07247858\n",
      " 0.098635  ]; shift = 0; time: 0h 0m 1s\n",
      "P =661.0; K = 10; alpha = [0.06426233 0.0653099  0.15321721 0.04146107 0.10420809 0.13438384\n",
      " 0.11175632 0.14426888 0.10806681 0.07306556]; shift = 0; time: 0h 0m 1s\n",
      "P =744.0; K = 1; alpha = [1.]; shift = 0; time: 0h 0m 2s\n",
      "P =744.0; K = 4; alpha = [0.14247636 0.47931921 0.19679808 0.18140634]; shift = 0; time: 0h 0m 1s\n",
      "P =744.0; K = 7; alpha = [0.1464435  0.14572015 0.18915811 0.20571807 0.13895    0.04582148\n",
      " 0.12818869]; shift = 0; time: 0h 0m 1s\n",
      "P =744.0; K = 10; alpha = [0.08790051 0.18317446 0.09283269 0.0912828  0.05412998 0.05619523\n",
      " 0.03999342 0.13343023 0.12225408 0.13880661]; shift = 0; time: 0h 0m 1s\n",
      "P =838.0; K = 1; alpha = [1.]; shift = 0; time: 0h 0m 2s\n",
      "P =838.0; K = 4; alpha = [0.10881458 0.32809592 0.30029357 0.26279593]; shift = 0; time: 0h 0m 1s\n",
      "P =838.0; K = 7; alpha = [0.26557271 0.10594808 0.09707848 0.08898245 0.12025074 0.14138318\n",
      " 0.18078436]; shift = 0; time: 0h 0m 1s\n",
      "P =838.0; K = 10; alpha = [0.04225275 0.064936   0.14349585 0.06722585 0.06819231 0.14475378\n",
      " 0.17600212 0.0238053  0.17403616 0.09529988]; shift = 0; time: 0h 0m 1s\n",
      "P =943.0; K = 1; alpha = [1.]; shift = 0; time: 0h 0m 4s\n",
      "P =943.0; K = 4; alpha = [0.2535358  0.30222872 0.13594693 0.30828854]; shift = 0; time: 0h 0m 1s\n",
      "P =943.0; K = 7; alpha = [0.05448878 0.15466728 0.1246852  0.28868931 0.14739882 0.17674182\n",
      " 0.0533288 ]; shift = 0; time: 0h 0m 1s\n",
      "P =943.0; K = 10; alpha = [0.17750538 0.0940843  0.0521842  0.054362   0.04966575 0.09845338\n",
      " 0.133895   0.08474949 0.07511261 0.17998789]; shift = 0; time: 0h 0m 1s\n",
      "P =1061.0; K = 1; alpha = [1.]; shift = 0; time: 0h 0m 4s\n",
      "P =1061.0; K = 4; alpha = [0.23051608 0.29571041 0.26073976 0.21303375]; shift = 0; time: 0h 0m 1s\n",
      "P =1061.0; K = 7; alpha = [0.17151669 0.23670022 0.12551095 0.04528708 0.16161291 0.1651966\n",
      " 0.09417554]; shift = 0; time: 0h 0m 1s\n",
      "P =1061.0; K = 10; alpha = [0.13167781 0.06356972 0.01748577 0.1440828  0.11196897 0.19145675\n",
      " 0.0785598  0.05152851 0.12351342 0.08615645]; shift = 0; time: 0h 0m 1s\n",
      "P =1194.0; K = 1; alpha = [1.]; shift = 0; time: 0h 0m 4s\n",
      "P =1194.0; K = 4; alpha = [0.08704046 0.1477123  0.15819104 0.6070562 ]; shift = 0; time: 0h 0m 1s\n",
      "P =1194.0; K = 7; alpha = [0.11556082 0.15886105 0.29376955 0.03182528 0.15670339 0.15381594\n",
      " 0.08946396]; shift = 0; time: 0h 0m 1s\n",
      "P =1194.0; K = 10; alpha = [0.01885623 0.14456018 0.15165834 0.12211245 0.08999767 0.06765145\n",
      " 0.20605902 0.10362791 0.04041728 0.05505947]; shift = 0; time: 0h 0m 1s\n",
      "P =1343.0; K = 1; alpha = [1.]; shift = 0; time: 0h 0m 4s\n",
      "P =1343.0; K = 4; alpha = [0.25290169 0.37033629 0.22588472 0.1508773 ]; shift = 0; time: 0h 0m 1s\n",
      "P =1343.0; K = 7; alpha = [0.12319532 0.0507091  0.16356157 0.18495291 0.28962235 0.1375355\n",
      " 0.05042325]; shift = 0; time: 0h 0m 1s\n",
      "P =1343.0; K = 10; alpha = [0.12401322 0.14946594 0.13373586 0.07300977 0.09634562 0.06036427\n",
      " 0.09257077 0.16943839 0.04105742 0.05999874]; shift = 0; time: 0h 0m 1s\n",
      "P =1512.0; K = 1; alpha = [1.]; shift = 0; time: 0h 0m 4s\n",
      "P =1512.0; K = 4; alpha = [0.06298621 0.40959575 0.20141301 0.32600502]; shift = 0; time: 0h 0m 1s\n",
      "P =1512.0; K = 7; alpha = [0.0637549  0.13481008 0.16619964 0.18507972 0.23278746 0.08548413\n",
      " 0.13188407]; shift = 0; time: 0h 0m 1s\n",
      "P =1512.0; K = 10; alpha = [0.11625391 0.14232618 0.07953799 0.11869368 0.06677141 0.16732223\n",
      " 0.05558086 0.03510444 0.15390437 0.06450492]; shift = 0; time: 0h 0m 1s\n",
      "P =1701.0; K = 1; alpha = [1.]; shift = 0; time: 0h 0m 4s\n",
      "P =1701.0; K = 4; alpha = [0.16840544 0.17149451 0.49022615 0.1698739 ]; shift = 0; time: 0h 0m 2s\n",
      "P =1701.0; K = 7; alpha = [0.17275137 0.0551306  0.15898361 0.24138436 0.09863165 0.08363543\n",
      " 0.18948297]; shift = 0; time: 0h 0m 1s\n",
      "P =1701.0; K = 10; alpha = [0.15592625 0.08351463 0.08849503 0.16113914 0.16698105 0.03398061\n",
      " 0.05314664 0.13119837 0.08617344 0.03944486]; shift = 0; time: 0h 0m 2s\n",
      "P =1914.0; K = 1; alpha = [1.]; shift = 0; time: 0h 0m 4s\n",
      "P =1914.0; K = 4; alpha = [0.15870885 0.09979073 0.34192413 0.39957629]; shift = 0; time: 0h 0m 2s\n",
      "P =1914.0; K = 7; alpha = [0.09231694 0.14119264 0.39404462 0.05335156 0.08132757 0.08229343\n",
      " 0.15547324]; shift = 0; time: 0h 0m 2s\n",
      "P =1914.0; K = 10; alpha = [0.05939644 0.11422906 0.13579372 0.07160249 0.113698   0.13252467\n",
      " 0.17674656 0.08697023 0.05093052 0.0581083 ]; shift = 0; time: 0h 0m 2s\n",
      "P =2154.0; K = 1; alpha = [1.]; shift = 0; time: 0h 0m 4s\n",
      "P =2154.0; K = 4; alpha = [0.35816927 0.19616786 0.28439181 0.16127106]; shift = 0; time: 0h 0m 2s\n",
      "P =2154.0; K = 7; alpha = [0.17236003 0.05880227 0.10384129 0.06935798 0.13333734 0.24048825\n",
      " 0.22181284]; shift = 0; time: 0h 0m 2s\n",
      "P =2154.0; K = 10; alpha = [0.03490122 0.11679807 0.09699521 0.10834323 0.17750495 0.17798754\n",
      " 0.07721356 0.05663418 0.07114849 0.08247356]; shift = 0; time: 0h 0m 2s\n",
      "P =2424.0; K = 1; alpha = [1.]; shift = 0; time: 0h 0m 4s\n",
      "P =2424.0; K = 4; alpha = [0.30646433 0.2826726  0.27173834 0.13912472]; shift = 0; time: 0h 0m 2s\n",
      "P =2424.0; K = 7; alpha = [0.21576776 0.17313488 0.10401132 0.05088417 0.12015578 0.22328688\n",
      " 0.11275921]; shift = 0; time: 0h 0m 2s\n",
      "P =2424.0; K = 10; alpha = [0.10311018 0.08739781 0.18568777 0.11654879 0.07174268 0.08212768\n",
      " 0.03454749 0.06296025 0.22798611 0.02789124]; shift = 0; time: 0h 0m 2s\n",
      "P =2728.0; K = 1; alpha = [1.]; shift = 0; time: 0h 0m 5s\n",
      "P =2728.0; K = 4; alpha = [0.27171647 0.28864995 0.19494415 0.24468943]; shift = 0; time: 0h 0m 2s\n",
      "P =2728.0; K = 7; alpha = [0.2161445  0.10694887 0.11103162 0.11318739 0.06779507 0.1096147\n",
      " 0.27527786]; shift = 0; time: 0h 0m 2s\n",
      "P =2728.0; K = 10; alpha = [0.05754435 0.10298205 0.09049779 0.03009765 0.10901062 0.13842277\n",
      " 0.06137743 0.20023686 0.12071386 0.0891166 ]; shift = 0; time: 0h 0m 2s\n",
      "P =3070.0; K = 1; alpha = [1.]; shift = 0; time: 0h 0m 5s\n",
      "P =3070.0; K = 4; alpha = [0.37609207 0.28586885 0.1536548  0.18438427]; shift = 0; time: 0h 0m 2s\n",
      "P =3070.0; K = 7; alpha = [0.18079491 0.12571214 0.05084677 0.25859394 0.07044841 0.1788239\n",
      " 0.13477992]; shift = 0; time: 0h 0m 2s\n",
      "P =3070.0; K = 10; alpha = [0.02264118 0.10521603 0.0735637  0.2131077  0.09665077 0.12064667\n",
      " 0.07868467 0.10344622 0.07175917 0.11428389]; shift = 0; time: 0h 0m 2s\n",
      "P =3455.0; K = 1; alpha = [1.]; shift = 0; time: 0h 0m 5s\n",
      "P =3455.0; K = 4; alpha = [0.2934267  0.16353687 0.48607192 0.05696451]; shift = 0; time: 0h 0m 2s\n",
      "P =3455.0; K = 7; alpha = [0.12610442 0.18325308 0.23446102 0.04101577 0.10817419 0.17916346\n",
      " 0.12782806]; shift = 0; time: 0h 0m 2s\n",
      "P =3455.0; K = 10; alpha = [0.15080691 0.0688095  0.24119837 0.12199465 0.12235141 0.04118151\n",
      " 0.04502736 0.13218654 0.04402435 0.03241941]; shift = 0; time: 0h 0m 2s\n",
      "P =3888.0; K = 1; alpha = [1.]; shift = 0; time: 0h 0m 5s\n",
      "P =3888.0; K = 4; alpha = [0.29988846 0.22068086 0.04629044 0.43314025]; shift = 0; time: 0h 0m 2s\n",
      "P =3888.0; K = 7; alpha = [0.12424308 0.13430164 0.15708644 0.04555634 0.15963253 0.26637969\n",
      " 0.11280027]; shift = 0; time: 0h 0m 2s\n",
      "P =3888.0; K = 10; alpha = [0.0400567  0.12153665 0.09844341 0.0908535  0.10534989 0.03342268\n",
      " 0.1339665  0.06967987 0.18011598 0.12657482]; shift = 0; time: 0h 0m 2s\n",
      "P =4375.0; K = 1; alpha = [1.]; shift = 0; time: 0h 0m 5s\n",
      "P =4375.0; K = 4; alpha = [0.27031864 0.26075548 0.19891154 0.27001434]; shift = 0; time: 0h 0m 2s\n",
      "P =4375.0; K = 7; alpha = [0.1956555  0.17845908 0.06903539 0.0750622  0.1454128  0.18380264\n",
      " 0.15257239]; shift = 0; time: 0h 0m 2s\n",
      "P =4375.0; K = 10; alpha = [0.0809651  0.08453332 0.11842093 0.08993113 0.10071743 0.16764864\n",
      " 0.13505124 0.08647696 0.02044658 0.11580867]; shift = 0; time: 0h 0m 3s\n",
      "P =4924.0; K = 1; alpha = [1.]; shift = 0; time: 0h 0m 5s\n",
      "P =4924.0; K = 4; alpha = [0.10413579 0.19573574 0.28713008 0.41299839]; shift = 0; time: 0h 0m 2s\n",
      "P =4924.0; K = 7; alpha = [0.17700026 0.08419487 0.14976926 0.09288355 0.14966267 0.18172636\n",
      " 0.16476302]; shift = 0; time: 0h 0m 2s\n",
      "P =4924.0; K = 10; alpha = [0.08213377 0.2019648  0.05885071 0.07637861 0.05380129 0.11725525\n",
      " 0.17858083 0.07956104 0.08597386 0.06549984]; shift = 0; time: 0h 0m 3s\n",
      "P =5541.0; K = 1; alpha = [1.]; shift = 0; time: 0h 0m 5s\n",
      "P =5541.0; K = 4; alpha = [0.32489305 0.27752864 0.242135   0.1554433 ]; shift = 0; time: 0h 0m 2s\n",
      "P =5541.0; K = 7; alpha = [0.10442474 0.14652843 0.24400094 0.16049537 0.10041769 0.10898027\n",
      " 0.13515257]; shift = 0; time: 0h 0m 3s\n",
      "P =5541.0; K = 10; alpha = [0.14594327 0.07005189 0.04041883 0.05793256 0.09673961 0.07341696\n",
      " 0.07811763 0.0985022  0.18036993 0.15850712]; shift = 0; time: 0h 0m 3s\n",
      "P =6236.0; K = 1; alpha = [1.]; shift = 0; time: 0h 0m 5s\n",
      "P =6236.0; K = 4; alpha = [0.23068253 0.41975677 0.04438429 0.30517641]; shift = 0; time: 0h 0m 3s\n",
      "P =6236.0; K = 7; alpha = [0.24922086 0.10820783 0.08117    0.13361969 0.19351175 0.1109063\n",
      " 0.12336358]; shift = 0; time: 0h 0m 3s\n",
      "P =6236.0; K = 10; alpha = [0.04066899 0.18233094 0.0975791  0.1158795  0.08653059 0.07538453\n",
      " 0.13871438 0.03393685 0.16641121 0.0625639 ]; shift = 0; time: 0h 0m 3s\n",
      "P =7017.0; K = 1; alpha = [1.]; shift = 0; time: 0h 0m 6s\n",
      "P =7017.0; K = 4; alpha = [0.23266528 0.18980034 0.27378966 0.30374473]; shift = 0; time: 0h 0m 3s\n",
      "P =7017.0; K = 7; alpha = [0.3090353  0.07772773 0.08387843 0.07839903 0.19831366 0.10586454\n",
      " 0.1467813 ]; shift = 0; time: 0h 0m 3s\n",
      "P =7017.0; K = 10; alpha = [0.07137254 0.05294259 0.05295787 0.07428608 0.11386503 0.29096838\n",
      " 0.07358712 0.07400957 0.09691883 0.09909198]; shift = 0; time: 0h 0m 3s\n",
      "P =7897.0; K = 1; alpha = [1.]; shift = 0; time: 0h 0m 6s\n",
      "P =7897.0; K = 4; alpha = [0.18356393 0.19068555 0.21578617 0.40996435]; shift = 0; time: 0h 0m 3s\n",
      "P =7897.0; K = 7; alpha = [0.17300823 0.12097816 0.17245506 0.07361853 0.06501902 0.10411761\n",
      " 0.2908034 ]; shift = 0; time: 0h 0m 3s\n",
      "P =7897.0; K = 10; alpha = [0.09647214 0.08021989 0.07661933 0.05832417 0.11210025 0.13699886\n",
      " 0.14743371 0.13397952 0.10442703 0.0534251 ]; shift = 0; time: 0h 0m 4s\n",
      "P =8886.0; K = 1; alpha = [1.]; shift = 0; time: 0h 0m 6s\n",
      "P =8886.0; K = 4; alpha = [0.1717161  0.11167421 0.4081407  0.30846899]; shift = 0; time: 0h 0m 3s\n",
      "P =8886.0; K = 7; alpha = [0.14292591 0.27327785 0.13858497 0.09397994 0.127968   0.15386142\n",
      " 0.0694019 ]; shift = 0; time: 0h 0m 3s\n",
      "P =8886.0; K = 10; alpha = [0.06163978 0.06703686 0.08191487 0.15043341 0.17440922 0.04613566\n",
      " 0.11425841 0.07082384 0.14734883 0.08599911]; shift = 0; time: 0h 0m 4s\n",
      "P =10000.0; K = 1; alpha = [1.]; shift = 0; time: 0h 0m 6s\n",
      "P =10000.0; K = 4; alpha = [0.27056256 0.09947341 0.26432053 0.3656435 ]; shift = 0; time: 0h 0m 4s\n",
      "P =10000.0; K = 7; alpha = [0.15158923 0.11725563 0.20911073 0.2603032  0.05391643 0.11284959\n",
      " 0.09497518]; shift = 0; time: 0h 0m 4s\n",
      "P =10000.0; K = 10; alpha = [0.1336499  0.10893619 0.08868692 0.10613826 0.04359151 0.05733167\n",
      " 0.1032043  0.06188074 0.1924586  0.10412193]; shift = 0; time: 0h 0m 4s\n"
     ]
    }
   ],
   "source": [
    "runExpt(base_feature_map, 'cifar10', 'np', 'lr', 'gamma', 'threshmean', num_samples_list, KVals, shifts, x_train, y_train, x_test, y_test, num_trials)"
   ]
  }
 ],
 "metadata": {
  "kernelspec": {
   "display_name": "Python (ffcv)",
   "language": "python",
   "name": "ffcv"
  },
  "language_info": {
   "codemirror_mode": {
    "name": "ipython",
    "version": 3
   },
   "file_extension": ".py",
   "mimetype": "text/x-python",
   "name": "python",
   "nbconvert_exporter": "python",
   "pygments_lexer": "ipython3",
   "version": "3.9.13"
  }
 },
 "nbformat": 4,
 "nbformat_minor": 4
}
